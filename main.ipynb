{
 "cells": [
  {
   "cell_type": "code",
   "execution_count": 7,
   "metadata": {},
   "outputs": [],
   "source": [
    "from openpyxl import load_workbook\n",
    "import fileinput\n",
    "import pandas as pd\n",
    "import sys\n",
    "import numpy as np\n",
    "from docx.oxml.xmlchemy import OxmlElement\n",
    "from docx.oxml.shared import qn\n",
    "from docx import Document\n",
    "from docx.enum.style import WD_STYLE_TYPE\n",
    "from docx.shared import Inches, Pt, RGBColor\n",
    "from docx.oxml.ns import qn\n",
    "from docx.enum.text import WD_PARAGRAPH_ALIGNMENT\n",
    "import docx"
   ]
  },
  {
   "cell_type": "code",
   "execution_count": 8,
   "metadata": {},
   "outputs": [],
   "source": [
    "#opening excel sheet\n",
    "xls=pd.ExcelFile('files/Book1.xlsx')"
   ]
  },
  {
   "cell_type": "code",
   "execution_count": 9,
   "metadata": {},
   "outputs": [
    {
     "name": "stdout",
     "output_type": "stream",
     "text": [
      "['Sheet1']\n"
     ]
    }
   ],
   "source": [
    "#extracting sheets\n",
    "sheet_names= xls.sheet_names\n",
    "print(sheet_names)"
   ]
  },
  {
   "cell_type": "code",
   "execution_count": 10,
   "metadata": {},
   "outputs": [],
   "source": [
    "#selecting sheet\n",
    "sheet_in=input('Enter the sheet name')\n",
    "sheet = sheet_in.title()\n",
    "df = pd.read_excel(xls, sheet, index_col=0)\n",
    "xl=xls.parse(sheet, index_col=0)\n",
    "# wb = load_workbook('files/Book1.xlsx')\n",
    "# ws = wb[sheet]"
   ]
  },
  {
   "cell_type": "code",
   "execution_count": 11,
   "metadata": {},
   "outputs": [],
   "source": [
    "#Deleting unnamed columns\n",
    "df.drop(df.columns[df.columns.str.contains('unnamed',case = False)],axis = 1, inplace = True)"
   ]
  },
  {
   "cell_type": "code",
   "execution_count": 12,
   "metadata": {},
   "outputs": [
    {
     "data": {
      "text/plain": [
       "(26, 7)"
      ]
     },
     "execution_count": 12,
     "metadata": {},
     "output_type": "execute_result"
    }
   ],
   "source": [
    "#number of rows and colums\n",
    "df.shape"
   ]
  },
  {
   "cell_type": "code",
   "execution_count": 13,
   "metadata": {},
   "outputs": [
    {
     "data": {
      "text/html": [
       "<div>\n",
       "<style scoped>\n",
       "    .dataframe tbody tr th:only-of-type {\n",
       "        vertical-align: middle;\n",
       "    }\n",
       "\n",
       "    .dataframe tbody tr th {\n",
       "        vertical-align: top;\n",
       "    }\n",
       "\n",
       "    .dataframe thead th {\n",
       "        text-align: right;\n",
       "    }\n",
       "</style>\n",
       "<table border=\"1\" class=\"dataframe\">\n",
       "  <thead>\n",
       "    <tr style=\"text-align: right;\">\n",
       "      <th></th>\n",
       "      <th>Student Name</th>\n",
       "      <th>USN</th>\n",
       "      <th>Assignment 2</th>\n",
       "      <th>Assignment 3</th>\n",
       "      <th>Midterm Exam</th>\n",
       "      <th>Final Exam</th>\n",
       "      <th>Result</th>\n",
       "    </tr>\n",
       "  </thead>\n",
       "  <tbody>\n",
       "  </tbody>\n",
       "</table>\n",
       "</div>"
      ],
      "text/plain": [
       "Empty DataFrame\n",
       "Columns: [Student Name, USN, Assignment 2, Assignment 3, Midterm Exam, Final Exam, Result]\n",
       "Index: []"
      ]
     },
     "execution_count": 13,
     "metadata": {},
     "output_type": "execute_result"
    }
   ],
   "source": [
    "#Printing all the column headings\n",
    "df.head(0)"
   ]
  },
  {
   "cell_type": "code",
   "execution_count": 14,
   "metadata": {},
   "outputs": [
    {
     "data": {
      "text/html": [
       "<div>\n",
       "<style scoped>\n",
       "    .dataframe tbody tr th:only-of-type {\n",
       "        vertical-align: middle;\n",
       "    }\n",
       "\n",
       "    .dataframe tbody tr th {\n",
       "        vertical-align: top;\n",
       "    }\n",
       "\n",
       "    .dataframe thead th {\n",
       "        text-align: right;\n",
       "    }\n",
       "</style>\n",
       "<table border=\"1\" class=\"dataframe\">\n",
       "  <thead>\n",
       "    <tr style=\"text-align: right;\">\n",
       "      <th></th>\n",
       "      <th>Student Name</th>\n",
       "      <th>USN</th>\n",
       "      <th>Assignment 2</th>\n",
       "      <th>Assignment 3</th>\n",
       "      <th>Midterm Exam</th>\n",
       "      <th>Final Exam</th>\n",
       "      <th>Result</th>\n",
       "    </tr>\n",
       "  </thead>\n",
       "  <tbody>\n",
       "    <tr>\n",
       "      <th>0</th>\n",
       "      <td>Darshan</td>\n",
       "      <td>1BG21CS035</td>\n",
       "      <td>17</td>\n",
       "      <td>22</td>\n",
       "      <td>56</td>\n",
       "      <td>69</td>\n",
       "      <td>Pass</td>\n",
       "    </tr>\n",
       "    <tr>\n",
       "      <th>1</th>\n",
       "      <td>Shyam</td>\n",
       "      <td>1BG21CS036</td>\n",
       "      <td>30</td>\n",
       "      <td>24</td>\n",
       "      <td>83</td>\n",
       "      <td>55</td>\n",
       "      <td>Fail</td>\n",
       "    </tr>\n",
       "    <tr>\n",
       "      <th>2</th>\n",
       "      <td>Pooh</td>\n",
       "      <td>1BG21CS037</td>\n",
       "      <td>30</td>\n",
       "      <td>40</td>\n",
       "      <td>55</td>\n",
       "      <td>154</td>\n",
       "      <td>Pass</td>\n",
       "    </tr>\n",
       "    <tr>\n",
       "      <th>3</th>\n",
       "      <td>Ridhi</td>\n",
       "      <td>1BG21CS038</td>\n",
       "      <td>25</td>\n",
       "      <td>34</td>\n",
       "      <td>45</td>\n",
       "      <td>105</td>\n",
       "      <td>Pass</td>\n",
       "    </tr>\n",
       "    <tr>\n",
       "      <th>4</th>\n",
       "      <td>Rashmi</td>\n",
       "      <td>1BG21CS039</td>\n",
       "      <td>30</td>\n",
       "      <td>40</td>\n",
       "      <td>100</td>\n",
       "      <td>44</td>\n",
       "      <td>Fail</td>\n",
       "    </tr>\n",
       "  </tbody>\n",
       "</table>\n",
       "</div>"
      ],
      "text/plain": [
       "  Student Name         USN  Assignment 2  Assignment 3  Midterm Exam  \\\n",
       "0      Darshan  1BG21CS035            17            22            56   \n",
       "1        Shyam  1BG21CS036            30            24            83   \n",
       "2         Pooh  1BG21CS037            30            40            55   \n",
       "3        Ridhi  1BG21CS038            25            34            45   \n",
       "4       Rashmi  1BG21CS039            30            40           100   \n",
       "\n",
       "   Final Exam Result  \n",
       "0          69   Pass  \n",
       "1          55   Fail  \n",
       "2         154   Pass  \n",
       "3         105   Pass  \n",
       "4          44   Fail  "
      ]
     },
     "execution_count": 14,
     "metadata": {},
     "output_type": "execute_result"
    }
   ],
   "source": [
    "df.head(5)"
   ]
  },
  {
   "cell_type": "code",
   "execution_count": 15,
   "metadata": {},
   "outputs": [
    {
     "name": "stdout",
     "output_type": "stream",
     "text": [
      "Student Name         Shyam\n",
      "USN             1BG21CS036\n",
      "Assignment 2            30\n",
      "Assignment 3            24\n",
      "Midterm Exam            83\n",
      "Final Exam              55\n",
      "Result                Fail\n",
      "Name: 1, dtype: object\n"
     ]
    }
   ],
   "source": [
    "# displaying row on input\n",
    "col_head = input('Enter the column heading')\n",
    "sel=input(f'Enter the {col_head}')\n",
    "#df[df[col_head].str.contains(sel, na=False)]\n",
    "\n",
    "# col_trav = ws[col_head]\n",
    "# for cell in col_trav:\n",
    "#     print(cell.value)\n",
    "#     if cell.value == 'Creed':\n",
    "#         row_traverse = ws[sel]\n",
    "#         row_traverse = ws['Creed']\n",
    "#         for cell in row_traverse:\n",
    "#             print(f'{cell.value}\\t')\n",
    "\n",
    "x = xl[col_head]\n",
    "row=-1\n",
    "for cell in x:\n",
    "    row = row+1\n",
    "    if cell == sel:\n",
    "        #y = xl[col_head][row]\n",
    "        print(df.loc[row])\n",
    "        break    \n"
   ]
  },
  {
   "cell_type": "code",
   "execution_count": 16,
   "metadata": {},
   "outputs": [
    {
     "name": "stdout",
     "output_type": "stream",
     "text": [
      "{'Student Name': 'Shyam', 'USN': '1BG21CS036', 'Assignment 2': 30, 'Assignment 3': 24, 'Midterm Exam': 83, 'Final Exam': 55, 'Result': 'Fail'}\n"
     ]
    }
   ],
   "source": [
    "#storing one student details\n",
    "\n",
    "specific_student_details ={}\n",
    "for i,j in zip(df.columns,df.loc[row]):\n",
    "        specific_student_details.update({i:j}) \n",
    "print(f'{specific_student_details}')\n"
   ]
  },
  {
   "cell_type": "code",
   "execution_count": 17,
   "metadata": {},
   "outputs": [],
   "source": [
    "#adding result column and finding if fail or pass\n",
    "df['Result'] = np.where(df['Final Exam'] < 60, 'Fail', 'Pass')\n",
    "#saving the excel back\n",
    "df.to_excel(\"files/Book1.xlsx\")"
   ]
  },
  {
   "cell_type": "code",
   "execution_count": 18,
   "metadata": {},
   "outputs": [],
   "source": [
    "#printing one student details to word\n",
    "file=docx.Document()\n",
    "sec_pr = file.sections[0]._sectPr # get the section properties el\n",
    "# create new borders el\n",
    "pg_borders = OxmlElement('w:pgBorders')\n",
    "# specifies how the relative positioning of the borders should be calculated\n",
    "pg_borders.set(qn('w:offsetFrom'), 'page')\n",
    "for border_name in ('top', 'left', 'bottom', 'right',): # set all borders\n",
    "    border_el2 = OxmlElement(f'w:{border_name}')\n",
    "    border_el2.set(qn('w:val'), 'single') # a single line\n",
    "    border_el2.set(qn('w:sz'), '10') # for meaning of  remaining attrs please look docs\n",
    "    border_el2.set(qn('w:space'), '24')\n",
    "    border_el2.set(qn('w:color'), 'black')\n",
    "    pg_borders.append(border_el2) # register single border to border el\n",
    "sec_pr.append(pg_borders) # apply border changes to section\n",
    "sections=file.sections\n",
    "for section in sections:\n",
    "    section.top_margin=Inches(0.5)\n",
    "    section.bottom_margin=Inches(0.5)\n",
    "    section.left_margin=Inches(0.5)\n",
    "    section.right_margin=Inches(0.5)\n",
    "logo = file.add_picture(r'files/bnm.png', width=docx.shared.Inches(7),height=docx.shared.Inches(1.5))\n",
    "logo.alignment = WD_PARAGRAPH_ALIGNMENT.CENTER\n",
    "head1 = file.add_paragraph(\"Greetings from BNMIT\")\n",
    "head1.style = file.styles.add_style(\"Style Name\",WD_STYLE_TYPE.PARAGRAPH)\n",
    "font=head1.style.font\n",
    "font.size=Pt(18)\n",
    "font.bold=True\n",
    "font.color.rgb= RGBColor(239,128,2)\n",
    "head1.alignment = WD_PARAGRAPH_ALIGNMENT.CENTER\n",
    "para1 = file.add_paragraph(\"\\n\\nThis is the details of the student\\n \")\n",
    "# para1.style = file.styles.add_style(\"Style Name\",WD_STYLE_TYPE.PARAGRAPH)\n",
    "font=para1.style.font\n",
    "font.size=Pt(14)\n",
    "for thing in specific_student_details:\n",
    "    file.add_paragraph(f'{thing} : {specific_student_details[thing]}')\n",
    "para2 = file.add_paragraph(\"\\n\\nWe wish all the best for the student's future academics.\\n\\n\\n\\n\\n\\n\\n\\n\\n\")\n",
    "para3 = file.add_paragraph('''Regards,\n",
    "Principal, BNMIT''')\n",
    "file.save(\"output/spec_std_det.docx\")\n",
    "del font\n"
   ]
  },
  {
   "cell_type": "code",
   "execution_count": 19,
   "metadata": {},
   "outputs": [],
   "source": [
    "#storing all the student details in seperate word docs\n",
    "student_details = {}\n",
    "m=0\n",
    "\n",
    "while(m<len(df.axes[0])):\n",
    "    file=docx.Document()\n",
    "    sec_pr = file.sections[0]._sectPr # get the section properties el\n",
    "    # create new borders el\n",
    "    pg_borders = OxmlElement('w:pgBorders')\n",
    "    # specifies how the relative positioning of the borders should be calculated\n",
    "    pg_borders.set(qn('w:offsetFrom'), 'page')\n",
    "    for border_name in ('top', 'left', 'bottom', 'right',): # set all borders\n",
    "        border_el2 = OxmlElement(f'w:{border_name}')\n",
    "        border_el2.set(qn('w:val'), 'single') # a single line\n",
    "        border_el2.set(qn('w:sz'), '10') # for meaning of  remaining attrs please look docs\n",
    "        border_el2.set(qn('w:space'), '24')\n",
    "        border_el2.set(qn('w:color'), 'black')\n",
    "        pg_borders.append(border_el2) # register single border to border el\n",
    "    sec_pr.append(pg_borders) # apply border changes to section\n",
    "    sections=file.sections\n",
    "    for section in sections:\n",
    "        section.top_margin=Inches(0.5)\n",
    "        section.bottom_margin=Inches(0.5)\n",
    "        section.left_margin=Inches(0.5)\n",
    "        section.right_margin=Inches(0.5)\n",
    "    logo = file.add_picture(r'files/bnm.png', width=docx.shared.Inches(7),height=docx.shared.Inches(1.5))\n",
    "    logo.alignment = WD_PARAGRAPH_ALIGNMENT.CENTER\n",
    "    head1 = file.add_paragraph(\"Greetings from BNMIT\")\n",
    "    head1.style = file.styles.add_style(\"Style Name\",WD_STYLE_TYPE.PARAGRAPH)\n",
    "    font1=head1.style.font\n",
    "    font1.size=Pt(18)\n",
    "    font1.bold=True\n",
    "    font1.color.rgb= RGBColor(239,128,2)\n",
    "    head1.alignment = WD_PARAGRAPH_ALIGNMENT.CENTER\n",
    "    para1 = file.add_paragraph(\"\\n\\nThis is the details of the student\\n \")\n",
    "    # para1.style = file.styles.add_style(\"Style Name\",WD_STYLE_TYPE.PARAGRAPH)\n",
    "    font2=para1.style.font\n",
    "    font2.size=Pt(14)\n",
    "    font2.color.rgb = RGBColor(0,0,0)\n",
    "    student_details=df.loc[m]\n",
    "    for thing in specific_student_details:\n",
    "        file.add_paragraph(f'{thing} : {student_details[thing]}')\n",
    "    #file.add_paragraph(f'{student_details.to_string()}')\n",
    "    #file.add_paragraph(f'{student_details.to_string()}')\n",
    "    para2 = file.add_paragraph(\"\\n\\nWe wish all the best for the student's future academics.\\n\\n\\n\\n\\n\\n\\n\\n\")\n",
    "    para3 = file.add_paragraph('''Regards,\n",
    "    Principal, BNMIT''')\n",
    "    file.save(f\"output/AllStudents/Student_details_{m}.docx\")\n",
    "    m=m+1\n",
    "    del file, font1, head1 ,para1"
   ]
  },
  {
   "cell_type": "code",
   "execution_count": 20,
   "metadata": {},
   "outputs": [
    {
     "name": "stdout",
     "output_type": "stream",
     "text": [
      "    Student Name         USN  Assignment 2  Assignment 3  Midterm Exam  \\\n",
      "4         Rashmi  1BG21CS039            30            40           100   \n",
      "13  Rajathalaxmi  1BG21CS048            23            31            40   \n",
      "25       Monisha  1BG21CS060            30            25            95   \n",
      "\n",
      "    Final Exam Result  \n",
      "4           44   Fail  \n",
      "13          43   Fail  \n",
      "25          45   Fail  \n"
     ]
    }
   ],
   "source": [
    "fail_stdnts=df[(df['Final Exam']<50)]\n",
    "print(fail_stdnts)"
   ]
  },
  {
   "cell_type": "code",
   "execution_count": 21,
   "metadata": {},
   "outputs": [],
   "source": [
    "# df['Result']\n",
    "# for result in Result:\n",
    "#     result ='Pass'\n",
    "# #df['Result'].replace('Pass','Fail',inplace=True)\n",
    "# for them in fail_stdnts['Student Name']:\n",
    "#     print(them)\n",
    "#     df.at[them,'Result']='Fail'\n",
    "# df.head()\n",
    "# ws.append()\n",
    "\n"
   ]
  },
  {
   "cell_type": "code",
   "execution_count": 22,
   "metadata": {},
   "outputs": [],
   "source": [
    "#y=xl['Final Exam']\n",
    "# std_marks=df[['Student Name', 'Final Exam']]\n",
    "# fail_stdnts=df[(df['Final Exam']<50)]\n",
    "# print(fail_stdnts)\n",
    "# for marks in std_marks['Final Exam']:\n",
    "#     imarks=int(marks)\n",
    "#     if(imarks<50):\n",
    "#         print(f' has failed.')\n",
    "#     else:\n",
    "#         print(f'{std_marks.loc[imarks]} has passed.')\n",
    "    # if marks<50 :\n",
    "    #     print('Fail')\n",
    "    # else:\n",
    "    #     print('Pass')"
   ]
  }
 ],
 "metadata": {
  "kernelspec": {
   "display_name": "Python 3",
   "language": "python",
   "name": "python3"
  },
  "language_info": {
   "codemirror_mode": {
    "name": "ipython",
    "version": 3
   },
   "file_extension": ".py",
   "mimetype": "text/x-python",
   "name": "python",
   "nbconvert_exporter": "python",
   "pygments_lexer": "ipython3",
   "version": "3.11.1"
  },
  "orig_nbformat": 4
 },
 "nbformat": 4,
 "nbformat_minor": 2
}
